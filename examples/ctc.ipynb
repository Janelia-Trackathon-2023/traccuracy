{
 "cells": [
  {
   "attachments": {},
   "cell_type": "markdown",
   "metadata": {},
   "source": [
    "# Benchmarking Cell Tracking Challenge Data"
   ]
  },
  {
   "cell_type": "code",
   "execution_count": 2,
   "metadata": {},
   "outputs": [],
   "source": [
    "import os\n",
    "import pprint\n",
    "import urllib.request\n",
    "import zipfile\n",
    "\n",
    "from tqdm import tqdm\n",
    "\n",
    "from traccuracy import run_metrics\n",
    "from traccuracy.loaders import load_ctc_data\n",
    "from traccuracy.matchers import CTCMatcher, IOUMatcher\n",
    "from traccuracy.metrics import CTCMetrics, DivisionMetrics\n",
    "\n",
    "pp = pprint.PrettyPrinter(indent=4)"
   ]
  },
  {
   "cell_type": "code",
   "execution_count": 3,
   "metadata": {},
   "outputs": [],
   "source": [
    "url = \"http://data.celltrackingchallenge.net/training-datasets/Fluo-N2DL-HeLa.zip\"\n",
    "data_dir = \"downloads\"\n",
    "\n",
    "if not os.path.exists(data_dir):\n",
    "    os.mkdir(data_dir)\n",
    "\n",
    "filename = url.split(\"/\")[-1]\n",
    "file_path = os.path.join(data_dir, filename)\n",
    "ds_name = filename.split(\".\")[0]"
   ]
  },
  {
   "cell_type": "code",
   "execution_count": 4,
   "metadata": {},
   "outputs": [
    {
     "name": "stdout",
     "output_type": "stream",
     "text": [
      "Downloading Fluo-N2DL-HeLa data from the CTC website\n"
     ]
    },
    {
     "name": "stderr",
     "output_type": "stream",
     "text": [
      "Fluo-N2DL-HeLa.zip: 199MB [00:40, 4.89MB/s]                              \n"
     ]
    }
   ],
   "source": [
    "# Add a utility to make a progress bar when downloading the file\n",
    "class DownloadProgressBar(tqdm):\n",
    "    def update_to(self, b=1, bsize=1, tsize=None):\n",
    "        if tsize is not None:\n",
    "            self.total = tsize\n",
    "        self.update(b * bsize - self.n)\n",
    "\n",
    "\n",
    "if not os.path.exists(file_path):\n",
    "    print(f\"Downloading {ds_name} data from the CTC website\")\n",
    "    # Downloading data\n",
    "    with DownloadProgressBar(unit=\"B\", unit_scale=True, miniters=1, desc=url.split(\"/\")[-1]) as t:\n",
    "        urllib.request.urlretrieve(url, file_path, reporthook=t.update_to)\n",
    "    # Unzip the data\n",
    "    # TODO add a progress bar to zip as well\n",
    "    with zipfile.ZipFile(file_path, \"r\") as zip_ref:\n",
    "        zip_ref.extractall(data_dir)"
   ]
  },
  {
   "cell_type": "code",
   "execution_count": 5,
   "metadata": {},
   "outputs": [
    {
     "name": "stderr",
     "output_type": "stream",
     "text": [
      "Loading TIFFs: 100%|██████████| 91/91 [00:00<00:00, 450.29it/s]\n",
      "Computing node attributes: 100%|██████████| 92/92 [00:00<00:00, 311.95it/s]\n",
      "1 non-connected masks at t=23.\n",
      "2 non-connected masks at t=52.\n",
      "Loading TIFFs: 100%|██████████| 91/91 [00:00<00:00, 763.41it/s]\n",
      "Computing node attributes: 100%|██████████| 92/92 [00:00<00:00, 282.40it/s]\n"
     ]
    }
   ],
   "source": [
    "gt_data = load_ctc_data(\n",
    "    \"downloads/Fluo-N2DL-HeLa/01_GT/TRA\",\n",
    "    \"downloads/Fluo-N2DL-HeLa/01_GT/TRA/man_track.txt\",\n",
    "    name=\"Hela-01_GT\",\n",
    ")\n",
    "pred_data = load_ctc_data(\n",
    "    \"sample-data/Fluo-N2DL-HeLa/01_RES\",\n",
    "    \"sample-data/Fluo-N2DL-HeLa/01_RES/res_track.txt\",\n",
    "    name=\"Hela-01_RES\",\n",
    ")"
   ]
  },
  {
   "attachments": {},
   "cell_type": "markdown",
   "metadata": {},
   "source": [
    "Run CTC metrics with additional evaluation of division events."
   ]
  },
  {
   "cell_type": "code",
   "execution_count": 6,
   "metadata": {},
   "outputs": [
    {
     "name": "stderr",
     "output_type": "stream",
     "text": [
      "Matching frames: 100%|██████████| 92/92 [00:00<00:00, 206.05it/s]\n",
      "Evaluating nodes: 100%|██████████| 8600/8600 [00:00<00:00, 562011.38it/s]\n",
      "Evaluating FP edges: 100%|██████████| 8535/8535 [00:00<00:00, 1017519.89it/s]\n",
      "Evaluating FN edges: 100%|██████████| 8562/8562 [00:00<00:00, 1111952.90it/s]"
     ]
    },
    {
     "name": "stdout",
     "output_type": "stream",
     "text": [
      "[   {   'gt': 'Hela-01_GT',\n",
      "        'matcher': {'matching type': 'one-to-one', 'name': 'CTCMatcher'},\n",
      "        'metric': {   'e_weights': {'fn': 1.5, 'fp': 1, 'ws': 1},\n",
      "                      'name': 'CTCMetrics',\n",
      "                      'v_weights': {'fn': 10, 'fp': 1, 'ns': 5},\n",
      "                      'valid_match_types': ['one-to-one', 'many-to-one']},\n",
      "        'pred': 'Hela-01_RES',\n",
      "        'results': {   'AOGM': 627.5,\n",
      "                       'DET': 0.9954855886097927,\n",
      "                       'TRA': 0.993676498745377,\n",
      "                       'fn_edges': 87,\n",
      "                       'fn_nodes': 39,\n",
      "                       'fp_edges': 60,\n",
      "                       'fp_nodes': 0,\n",
      "                       'ns_nodes': 0,\n",
      "                       'ws_edges': 47},\n",
      "        'version': '0.1.2.dev144+gac0fc2f.d20250210'}]\n"
     ]
    },
    {
     "name": "stderr",
     "output_type": "stream",
     "text": [
      "\n"
     ]
    }
   ],
   "source": [
    "ctc_results, ctc_matched = run_metrics(\n",
    "    gt_data=gt_data,\n",
    "    pred_data=pred_data,\n",
    "    matcher=CTCMatcher(),\n",
    "    metrics=[CTCMetrics()],\n",
    ")\n",
    "pp.pprint(ctc_results)"
   ]
  },
  {
   "attachments": {},
   "cell_type": "markdown",
   "metadata": {},
   "source": [
    "Use an IOU matcher which supports a minimum threshold for overlap and run division metrics."
   ]
  },
  {
   "cell_type": "code",
   "execution_count": 7,
   "metadata": {},
   "outputs": [
    {
     "name": "stderr",
     "output_type": "stream",
     "text": [
      "Matching frames: 100%|██████████| 92/92 [00:00<00:00, 147.20it/s]\n"
     ]
    },
    {
     "name": "stdout",
     "output_type": "stream",
     "text": [
      "[   {   'gt': 'Hela-01_GT',\n",
      "        'matcher': {   '_matching_type': 'one-to-one',\n",
      "                       'iou_threshold': 0.1,\n",
      "                       'matching type': 'one-to-one',\n",
      "                       'name': 'IOUMatcher',\n",
      "                       'one_to_one': True},\n",
      "        'metric': {   'frame_buffer': 2,\n",
      "                      'name': 'DivisionMetrics',\n",
      "                      'valid_match_types': ['one-to-one']},\n",
      "        'pred': 'Hela-01_RES',\n",
      "        'results': {   'Frame Buffer 0': {   'Division F1': 0.6900000000000001,\n",
      "                                             'Division Precision': 0.6509433962264151,\n",
      "                                             'Division Recall': 0.7340425531914894,\n",
      "                                             'False Negative Divisions': 19,\n",
      "                                             'False Positive Divisions': 31,\n",
      "                                             'Mitotic Branching Correctness': 0.552,\n",
      "                                             'Total GT Divisions': 94,\n",
      "                                             'Total Predicted Divisions': 106,\n",
      "                                             'True Positive Divisions': 69,\n",
      "                                             'Wrong Children Divisions': 6},\n",
      "                       'Frame Buffer 1': {   'Division F1': 0.6900000000000001,\n",
      "                                             'Division Precision': 0.6509433962264151,\n",
      "                                             'Division Recall': 0.7340425531914894,\n",
      "                                             'False Negative Divisions': 19,\n",
      "                                             'False Positive Divisions': 31,\n",
      "                                             'Mitotic Branching Correctness': 0.552,\n",
      "                                             'Total GT Divisions': 94,\n",
      "                                             'Total Predicted Divisions': 106,\n",
      "                                             'True Positive Divisions': 69,\n",
      "                                             'Wrong Children Divisions': 6},\n",
      "                       'Frame Buffer 2': {   'Division F1': 0.6900000000000001,\n",
      "                                             'Division Precision': 0.6509433962264151,\n",
      "                                             'Division Recall': 0.7340425531914894,\n",
      "                                             'False Negative Divisions': 19,\n",
      "                                             'False Positive Divisions': 31,\n",
      "                                             'Mitotic Branching Correctness': 0.552,\n",
      "                                             'Total GT Divisions': 94,\n",
      "                                             'Total Predicted Divisions': 106,\n",
      "                                             'True Positive Divisions': 69,\n",
      "                                             'Wrong Children Divisions': 6}},\n",
      "        'version': '0.1.2.dev144+gac0fc2f.d20250210'}]\n"
     ]
    }
   ],
   "source": [
    "iou_results, iou_matched = run_metrics(\n",
    "    gt_data=gt_data,\n",
    "    pred_data=pred_data,\n",
    "    matcher=IOUMatcher(iou_threshold=0.1, one_to_one=True),\n",
    "    metrics=[DivisionMetrics(max_frame_buffer=2)],\n",
    ")\n",
    "pp.pprint(iou_results)"
   ]
  }
 ],
 "metadata": {
  "kernelspec": {
   "display_name": "default",
   "language": "python",
   "name": "python3"
  },
  "language_info": {
   "codemirror_mode": {
    "name": "ipython",
    "version": 3
   },
   "file_extension": ".py",
   "mimetype": "text/x-python",
   "name": "python",
   "nbconvert_exporter": "python",
   "pygments_lexer": "ipython3",
   "version": "3.9.21"
  },
  "orig_nbformat": 4
 },
 "nbformat": 4,
 "nbformat_minor": 2
}
